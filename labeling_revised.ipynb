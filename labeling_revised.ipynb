{
 "cells": [
  {
   "cell_type": "code",
   "execution_count": 1,
   "id": "dd61472e",
   "metadata": {},
   "outputs": [],
   "source": [
    "import pandas as pd\n",
    "import re\n",
    "from tensorflow.keras.datasets import imdb\n",
    "from tensorflow.keras.preprocessing.sequence import pad_sequences\n",
    "from tensorflow.keras.models import Sequential\n",
    "from tensorflow.keras.layers import Dense, GRU,SimpleRNN, Embedding\n",
    "from tensorflow.keras.callbacks import EarlyStopping, ModelCheckpoint\n",
    "from tensorflow.keras.models import load_model"
   ]
  },
  {
   "cell_type": "code",
   "execution_count": 2,
   "id": "1b5a4822",
   "metadata": {},
   "outputs": [],
   "source": [
    "max_len = 500\n",
    "loaded_model = load_model('GRU_model.h5')\n",
    "index_to_word = {}\n",
    "word_to_index = imdb.get_word_index()\n",
    "for key, value in word_to_index.items():\n",
    "    index_to_word[value+3]=key\n",
    "for index, token in enumerate((\"<pad>\",\"<sos>\",\"<unk>\")):\n",
    "    index_to_word[index]=token"
   ]
  },
  {
   "cell_type": "code",
   "execution_count": 20,
   "id": "59e5b571",
   "metadata": {
    "scrolled": false
   },
   "outputs": [
    {
     "data": {
      "text/html": [
       "<div>\n",
       "<style scoped>\n",
       "    .dataframe tbody tr th:only-of-type {\n",
       "        vertical-align: middle;\n",
       "    }\n",
       "\n",
       "    .dataframe tbody tr th {\n",
       "        vertical-align: top;\n",
       "    }\n",
       "\n",
       "    .dataframe thead th {\n",
       "        text-align: right;\n",
       "    }\n",
       "</style>\n",
       "<table border=\"1\" class=\"dataframe\">\n",
       "  <thead>\n",
       "    <tr style=\"text-align: right;\">\n",
       "      <th></th>\n",
       "      <th>Datetime</th>\n",
       "      <th>Text</th>\n",
       "    </tr>\n",
       "  </thead>\n",
       "  <tbody>\n",
       "    <tr>\n",
       "      <th>0</th>\n",
       "      <td>2022-05-08</td>\n",
       "      <td>i was the leagueoflegends guy</td>\n",
       "    </tr>\n",
       "    <tr>\n",
       "      <th>1</th>\n",
       "      <td>2022-05-08</td>\n",
       "      <td>the most entertaining leagueoflegends content ...</td>\n",
       "    </tr>\n",
       "    <tr>\n",
       "      <th>2</th>\n",
       "      <td>2022-05-08</td>\n",
       "      <td>yes the tower is the safest place in lane but ...</td>\n",
       "    </tr>\n",
       "    <tr>\n",
       "      <th>3</th>\n",
       "      <td>2022-05-08</td>\n",
       "      <td>we need to collectively obliterate leagueofleg...</td>\n",
       "    </tr>\n",
       "    <tr>\n",
       "      <th>4</th>\n",
       "      <td>2022-05-08</td>\n",
       "      <td>potatoise arcane leagueoflegends</td>\n",
       "    </tr>\n",
       "    <tr>\n",
       "      <th>...</th>\n",
       "      <td>...</td>\n",
       "      <td>...</td>\n",
       "    </tr>\n",
       "    <tr>\n",
       "      <th>1413</th>\n",
       "      <td>2022-05-08</td>\n",
       "      <td>this has spiraled hard into irrelevant topics ...</td>\n",
       "    </tr>\n",
       "    <tr>\n",
       "      <th>1414</th>\n",
       "      <td>2022-05-08</td>\n",
       "      <td>the idea leagueoflegends has confirmed lore ar...</td>\n",
       "    </tr>\n",
       "    <tr>\n",
       "      <th>1415</th>\n",
       "      <td>2022-05-08</td>\n",
       "      <td>enemy von imagine dragons feat jid and leagueo...</td>\n",
       "    </tr>\n",
       "    <tr>\n",
       "      <th>1416</th>\n",
       "      <td>2022-05-08</td>\n",
       "      <td>goin to be playing arams in leagueoflegends to...</td>\n",
       "    </tr>\n",
       "    <tr>\n",
       "      <th>1417</th>\n",
       "      <td>2022-05-08</td>\n",
       "      <td>who remembers that love leagueoflegends visit ...</td>\n",
       "    </tr>\n",
       "  </tbody>\n",
       "</table>\n",
       "<p>1418 rows × 2 columns</p>\n",
       "</div>"
      ],
      "text/plain": [
       "        Datetime                                               Text\n",
       "0     2022-05-08                      i was the leagueoflegends guy\n",
       "1     2022-05-08  the most entertaining leagueoflegends content ...\n",
       "2     2022-05-08  yes the tower is the safest place in lane but ...\n",
       "3     2022-05-08  we need to collectively obliterate leagueofleg...\n",
       "4     2022-05-08                   potatoise arcane leagueoflegends\n",
       "...          ...                                                ...\n",
       "1413  2022-05-08  this has spiraled hard into irrelevant topics ...\n",
       "1414  2022-05-08  the idea leagueoflegends has confirmed lore ar...\n",
       "1415  2022-05-08  enemy von imagine dragons feat jid and leagueo...\n",
       "1416  2022-05-08  goin to be playing arams in leagueoflegends to...\n",
       "1417  2022-05-08  who remembers that love leagueoflegends visit ...\n",
       "\n",
       "[1418 rows x 2 columns]"
      ]
     },
     "execution_count": 20,
     "metadata": {},
     "output_type": "execute_result"
    }
   ],
   "source": [
    "df = pd.read_csv('sample_preprocessed.csv')\n",
    "df"
   ]
  },
  {
   "cell_type": "code",
   "execution_count": 33,
   "id": "77c46c69",
   "metadata": {},
   "outputs": [],
   "source": [
    "def sentiment_predict(new_sentence):\n",
    "    # 알파벳과 숫자를 제외하고 모두 제거 및 알파벳 소문자화\n",
    "    encoded = []\n",
    "    # 띄어쓰기 단위 토큰화 후 정수 인코딩\n",
    "    for word in new_sentence.split():\n",
    "        try :\n",
    "            # 단어 집합의 크기를 10,000으로 제한.\n",
    "            if word_to_index[word] < 10000 - 3:\n",
    "                encoded.append(word_to_index[word]+3)\n",
    "            else:\n",
    "                # 10,000 이상의 숫자는 <unk> 토큰으로 변환.\n",
    "                encoded.append(2)\n",
    "        # 단어 집합에 없는 단어는 <unk> 토큰으로 변환.\n",
    "        except KeyError:\n",
    "            encoded.append(2)\n",
    "\n",
    "    pad_sequence = pad_sequences([encoded], maxlen=max_len)\n",
    "    score = float(loaded_model.predict(pad_sequence)) # 예측\n",
    "    \n",
    "    if(score > 0.5) : return 1\n",
    "    else : return -1"
   ]
  },
  {
   "cell_type": "code",
   "execution_count": 34,
   "id": "44a454ca",
   "metadata": {
    "scrolled": true
   },
   "outputs": [],
   "source": [
    "df['label'] = df['Text'].apply(lambda x : sentiment_predict(x))"
   ]
  },
  {
   "cell_type": "code",
   "execution_count": 35,
   "id": "bc64675c",
   "metadata": {
    "scrolled": false
   },
   "outputs": [
    {
     "data": {
      "text/html": [
       "<div>\n",
       "<style scoped>\n",
       "    .dataframe tbody tr th:only-of-type {\n",
       "        vertical-align: middle;\n",
       "    }\n",
       "\n",
       "    .dataframe tbody tr th {\n",
       "        vertical-align: top;\n",
       "    }\n",
       "\n",
       "    .dataframe thead th {\n",
       "        text-align: right;\n",
       "    }\n",
       "</style>\n",
       "<table border=\"1\" class=\"dataframe\">\n",
       "  <thead>\n",
       "    <tr style=\"text-align: right;\">\n",
       "      <th></th>\n",
       "      <th>Datetime</th>\n",
       "      <th>Text</th>\n",
       "      <th>label</th>\n",
       "      <th>label2</th>\n",
       "    </tr>\n",
       "  </thead>\n",
       "  <tbody>\n",
       "    <tr>\n",
       "      <th>0</th>\n",
       "      <td>2022-05-08</td>\n",
       "      <td>i was the leagueoflegends guy</td>\n",
       "      <td>-1</td>\n",
       "      <td>0</td>\n",
       "    </tr>\n",
       "    <tr>\n",
       "      <th>1</th>\n",
       "      <td>2022-05-08</td>\n",
       "      <td>the most entertaining leagueoflegends content ...</td>\n",
       "      <td>1</td>\n",
       "      <td>1</td>\n",
       "    </tr>\n",
       "    <tr>\n",
       "      <th>2</th>\n",
       "      <td>2022-05-08</td>\n",
       "      <td>yes the tower is the safest place in lane but ...</td>\n",
       "      <td>-1</td>\n",
       "      <td>-1</td>\n",
       "    </tr>\n",
       "    <tr>\n",
       "      <th>3</th>\n",
       "      <td>2022-05-08</td>\n",
       "      <td>we need to collectively obliterate leagueofleg...</td>\n",
       "      <td>-1</td>\n",
       "      <td>-1</td>\n",
       "    </tr>\n",
       "    <tr>\n",
       "      <th>4</th>\n",
       "      <td>2022-05-08</td>\n",
       "      <td>potatoise arcane leagueoflegends</td>\n",
       "      <td>-1</td>\n",
       "      <td>0</td>\n",
       "    </tr>\n",
       "    <tr>\n",
       "      <th>...</th>\n",
       "      <td>...</td>\n",
       "      <td>...</td>\n",
       "      <td>...</td>\n",
       "      <td>...</td>\n",
       "    </tr>\n",
       "    <tr>\n",
       "      <th>1413</th>\n",
       "      <td>2022-05-08</td>\n",
       "      <td>this has spiraled hard into irrelevant topics ...</td>\n",
       "      <td>-1</td>\n",
       "      <td>1</td>\n",
       "    </tr>\n",
       "    <tr>\n",
       "      <th>1414</th>\n",
       "      <td>2022-05-08</td>\n",
       "      <td>the idea leagueoflegends has confirmed lore ar...</td>\n",
       "      <td>1</td>\n",
       "      <td>0</td>\n",
       "    </tr>\n",
       "    <tr>\n",
       "      <th>1415</th>\n",
       "      <td>2022-05-08</td>\n",
       "      <td>enemy von imagine dragons feat jid and leagueo...</td>\n",
       "      <td>1</td>\n",
       "      <td>-1</td>\n",
       "    </tr>\n",
       "    <tr>\n",
       "      <th>1416</th>\n",
       "      <td>2022-05-08</td>\n",
       "      <td>goin to be playing arams in leagueoflegends to...</td>\n",
       "      <td>1</td>\n",
       "      <td>1</td>\n",
       "    </tr>\n",
       "    <tr>\n",
       "      <th>1417</th>\n",
       "      <td>2022-05-08</td>\n",
       "      <td>who remembers that love leagueoflegends visit ...</td>\n",
       "      <td>1</td>\n",
       "      <td>1</td>\n",
       "    </tr>\n",
       "  </tbody>\n",
       "</table>\n",
       "<p>1418 rows × 4 columns</p>\n",
       "</div>"
      ],
      "text/plain": [
       "        Datetime                                               Text  label  \\\n",
       "0     2022-05-08                      i was the leagueoflegends guy     -1   \n",
       "1     2022-05-08  the most entertaining leagueoflegends content ...      1   \n",
       "2     2022-05-08  yes the tower is the safest place in lane but ...     -1   \n",
       "3     2022-05-08  we need to collectively obliterate leagueofleg...     -1   \n",
       "4     2022-05-08                   potatoise arcane leagueoflegends     -1   \n",
       "...          ...                                                ...    ...   \n",
       "1413  2022-05-08  this has spiraled hard into irrelevant topics ...     -1   \n",
       "1414  2022-05-08  the idea leagueoflegends has confirmed lore ar...      1   \n",
       "1415  2022-05-08  enemy von imagine dragons feat jid and leagueo...      1   \n",
       "1416  2022-05-08  goin to be playing arams in leagueoflegends to...      1   \n",
       "1417  2022-05-08  who remembers that love leagueoflegends visit ...      1   \n",
       "\n",
       "      label2  \n",
       "0          0  \n",
       "1          1  \n",
       "2         -1  \n",
       "3         -1  \n",
       "4          0  \n",
       "...      ...  \n",
       "1413       1  \n",
       "1414       0  \n",
       "1415      -1  \n",
       "1416       1  \n",
       "1417       1  \n",
       "\n",
       "[1418 rows x 4 columns]"
      ]
     },
     "execution_count": 35,
     "metadata": {},
     "output_type": "execute_result"
    }
   ],
   "source": [
    "df"
   ]
  },
  {
   "cell_type": "code",
   "execution_count": 36,
   "id": "e9b59580",
   "metadata": {},
   "outputs": [
    {
     "data": {
      "text/plain": [
       "-1    876\n",
       " 1    542\n",
       "Name: label, dtype: int64"
      ]
     },
     "execution_count": 36,
     "metadata": {},
     "output_type": "execute_result"
    }
   ],
   "source": [
    "df.label.value_counts()"
   ]
  },
  {
   "cell_type": "code",
   "execution_count": 38,
   "id": "75fbea5a",
   "metadata": {},
   "outputs": [],
   "source": [
    "df.set_index('Datetime').to_csv('sample_preprocessed_labeled.csv')"
   ]
  },
  {
   "cell_type": "code",
   "execution_count": 39,
   "id": "d0f41a6d",
   "metadata": {},
   "outputs": [],
   "source": [
    "from nltk.sentiment.vader import SentimentIntensityAnalyzer as SIA\n",
    "\n",
    "sia=SIA()\n",
    "results=[]\n",
    "\n",
    "for line in df['Text']:\n",
    "    pol_score=sia.polarity_scores(line)\n",
    "    pol_score['articles']=line\n",
    "    results.append(pol_score)\n",
    "\n",
    "temp = pd.DataFrame.from_records(results)\n",
    "df['label2']=0\n",
    "df.loc[temp['compound']>0.2,'label2']=1\n",
    "df.loc[temp['compound']<-0.2,'label2']=-1"
   ]
  },
  {
   "cell_type": "code",
   "execution_count": 51,
   "id": "34475010",
   "metadata": {},
   "outputs": [
    {
     "data": {
      "text/plain": [
       "365"
      ]
     },
     "execution_count": 51,
     "metadata": {},
     "output_type": "execute_result"
    }
   ],
   "source": [
    "count = 0\n",
    "\n",
    "for i in range(1418) :\n",
    "    if(df['label'][i] != df['label2'][i] and df['label2'][i] != 0) : count += 1\n",
    "count"
   ]
  }
 ],
 "metadata": {
  "kernelspec": {
   "display_name": "Python 3 (ipykernel)",
   "language": "python",
   "name": "python3"
  },
  "language_info": {
   "codemirror_mode": {
    "name": "ipython",
    "version": 3
   },
   "file_extension": ".py",
   "mimetype": "text/x-python",
   "name": "python",
   "nbconvert_exporter": "python",
   "pygments_lexer": "ipython3",
   "version": "3.9.7"
  }
 },
 "nbformat": 4,
 "nbformat_minor": 5
}
