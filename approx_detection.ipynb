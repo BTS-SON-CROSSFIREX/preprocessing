{
 "cells": [
  {
   "cell_type": "code",
   "execution_count": 1,
   "id": "3e37b3cc",
   "metadata": {},
   "outputs": [],
   "source": [
    "import pandas as pd\n",
    "import numpy as np\n",
    "import string\n",
    "import preprocessor as p\n",
    "import re\n",
    "from nltk.corpus import stopwords"
   ]
  },
  {
   "cell_type": "code",
   "execution_count": 2,
   "id": "de68ed6c",
   "metadata": {},
   "outputs": [],
   "source": [
    "df = pd.read_csv(\"./corpus/pubg/pubg_2022-3-16_2022-4-13_tweetdata.csv\", encoding='UTF-8')"
   ]
  },
  {
   "cell_type": "code",
   "execution_count": 3,
   "id": "1c1c7189",
   "metadata": {},
   "outputs": [
    {
     "data": {
      "text/html": [
       "<div>\n",
       "<style scoped>\n",
       "    .dataframe tbody tr th:only-of-type {\n",
       "        vertical-align: middle;\n",
       "    }\n",
       "\n",
       "    .dataframe tbody tr th {\n",
       "        vertical-align: top;\n",
       "    }\n",
       "\n",
       "    .dataframe thead th {\n",
       "        text-align: right;\n",
       "    }\n",
       "</style>\n",
       "<table border=\"1\" class=\"dataframe\">\n",
       "  <thead>\n",
       "    <tr style=\"text-align: right;\">\n",
       "      <th></th>\n",
       "      <th>Unnamed: 0</th>\n",
       "      <th>Datetime</th>\n",
       "      <th>Text</th>\n",
       "    </tr>\n",
       "  </thead>\n",
       "  <tbody>\n",
       "    <tr>\n",
       "      <th>0</th>\n",
       "      <td>0</td>\n",
       "      <td>2022-04-12</td>\n",
       "      <td>@BigaofTEDG @NaFreshDeyTrend @jadadeeva Ona no...</td>\n",
       "    </tr>\n",
       "    <tr>\n",
       "      <th>1</th>\n",
       "      <td>1</td>\n",
       "      <td>2022-04-12</td>\n",
       "      <td>@popo_pubg_1214 @pubg_gunfinger めっちゃ集まるwwww\\n集...</td>\n",
       "    </tr>\n",
       "    <tr>\n",
       "      <th>2</th>\n",
       "      <td>2</td>\n",
       "      <td>2022-04-12</td>\n",
       "      <td>@rouya_pubg 大丈夫だよなんとか🥺</td>\n",
       "    </tr>\n",
       "    <tr>\n",
       "      <th>3</th>\n",
       "      <td>3</td>\n",
       "      <td>2022-04-12</td>\n",
       "      <td>@onib_pubg かなりやばいですねそれ…\\nでも仕方ないからゲームは控えめにして、おさ...</td>\n",
       "    </tr>\n",
       "    <tr>\n",
       "      <th>4</th>\n",
       "      <td>4</td>\n",
       "      <td>2022-04-12</td>\n",
       "      <td>Tum jitna marzi pubg free fire ludo khel lo.. ...</td>\n",
       "    </tr>\n",
       "    <tr>\n",
       "      <th>...</th>\n",
       "      <td>...</td>\n",
       "      <td>...</td>\n",
       "      <td>...</td>\n",
       "    </tr>\n",
       "    <tr>\n",
       "      <th>322971</th>\n",
       "      <td>322971</td>\n",
       "      <td>2022-03-16</td>\n",
       "      <td>#PUBG\\n実験カスタムにも関わらずご参加いただいた方々に感謝です。\\n\\n初戦、灰狼らし...</td>\n",
       "    </tr>\n",
       "    <tr>\n",
       "      <th>322972</th>\n",
       "      <td>322972</td>\n",
       "      <td>2022-03-16</td>\n",
       "      <td>@PUBG_Chikwa0116 いつもかわいいツイートありがと🐤❤︎</td>\n",
       "    </tr>\n",
       "    <tr>\n",
       "      <th>322973</th>\n",
       "      <td>322973</td>\n",
       "      <td>2022-03-16</td>\n",
       "      <td>@GoonMobileYT @4ceLawrence @PUBGMOBILE @NEWSTA...</td>\n",
       "    </tr>\n",
       "    <tr>\n",
       "      <th>322974</th>\n",
       "      <td>322974</td>\n",
       "      <td>2022-03-16</td>\n",
       "      <td>TIMES RUNNING OUT ⏰ \\n\\nDON'T MISS YOUR CHANCE...</td>\n",
       "    </tr>\n",
       "    <tr>\n",
       "      <th>322975</th>\n",
       "      <td>322975</td>\n",
       "      <td>2022-03-16</td>\n",
       "      <td>Confira minha transmissão do meu PlayStation 4...</td>\n",
       "    </tr>\n",
       "  </tbody>\n",
       "</table>\n",
       "<p>322976 rows × 3 columns</p>\n",
       "</div>"
      ],
      "text/plain": [
       "        Unnamed: 0    Datetime  \\\n",
       "0                0  2022-04-12   \n",
       "1                1  2022-04-12   \n",
       "2                2  2022-04-12   \n",
       "3                3  2022-04-12   \n",
       "4                4  2022-04-12   \n",
       "...            ...         ...   \n",
       "322971      322971  2022-03-16   \n",
       "322972      322972  2022-03-16   \n",
       "322973      322973  2022-03-16   \n",
       "322974      322974  2022-03-16   \n",
       "322975      322975  2022-03-16   \n",
       "\n",
       "                                                     Text  \n",
       "0       @BigaofTEDG @NaFreshDeyTrend @jadadeeva Ona no...  \n",
       "1       @popo_pubg_1214 @pubg_gunfinger めっちゃ集まるwwww\\n集...  \n",
       "2                                  @rouya_pubg 大丈夫だよなんとか🥺  \n",
       "3       @onib_pubg かなりやばいですねそれ…\\nでも仕方ないからゲームは控えめにして、おさ...  \n",
       "4       Tum jitna marzi pubg free fire ludo khel lo.. ...  \n",
       "...                                                   ...  \n",
       "322971  #PUBG\\n実験カスタムにも関わらずご参加いただいた方々に感謝です。\\n\\n初戦、灰狼らし...  \n",
       "322972                @PUBG_Chikwa0116 いつもかわいいツイートありがと🐤❤︎  \n",
       "322973  @GoonMobileYT @4ceLawrence @PUBGMOBILE @NEWSTA...  \n",
       "322974  TIMES RUNNING OUT ⏰ \\n\\nDON'T MISS YOUR CHANCE...  \n",
       "322975  Confira minha transmissão do meu PlayStation 4...  \n",
       "\n",
       "[322976 rows x 3 columns]"
      ]
     },
     "execution_count": 3,
     "metadata": {},
     "output_type": "execute_result"
    }
   ],
   "source": [
    "df"
   ]
  },
  {
   "cell_type": "code",
   "execution_count": 4,
   "id": "4dab064f",
   "metadata": {},
   "outputs": [],
   "source": [
    "df = df[['Text']]"
   ]
  },
  {
   "cell_type": "code",
   "execution_count": 5,
   "id": "ebb76d54",
   "metadata": {},
   "outputs": [
    {
     "data": {
      "text/html": [
       "<div>\n",
       "<style scoped>\n",
       "    .dataframe tbody tr th:only-of-type {\n",
       "        vertical-align: middle;\n",
       "    }\n",
       "\n",
       "    .dataframe tbody tr th {\n",
       "        vertical-align: top;\n",
       "    }\n",
       "\n",
       "    .dataframe thead th {\n",
       "        text-align: right;\n",
       "    }\n",
       "</style>\n",
       "<table border=\"1\" class=\"dataframe\">\n",
       "  <thead>\n",
       "    <tr style=\"text-align: right;\">\n",
       "      <th></th>\n",
       "      <th>Text</th>\n",
       "    </tr>\n",
       "  </thead>\n",
       "  <tbody>\n",
       "    <tr>\n",
       "      <th>0</th>\n",
       "      <td>@BigaofTEDG @NaFreshDeyTrend @jadadeeva Ona no...</td>\n",
       "    </tr>\n",
       "    <tr>\n",
       "      <th>1</th>\n",
       "      <td>@popo_pubg_1214 @pubg_gunfinger めっちゃ集まるwwww\\n集...</td>\n",
       "    </tr>\n",
       "    <tr>\n",
       "      <th>2</th>\n",
       "      <td>@rouya_pubg 大丈夫だよなんとか🥺</td>\n",
       "    </tr>\n",
       "    <tr>\n",
       "      <th>3</th>\n",
       "      <td>@onib_pubg かなりやばいですねそれ…\\nでも仕方ないからゲームは控えめにして、おさ...</td>\n",
       "    </tr>\n",
       "    <tr>\n",
       "      <th>4</th>\n",
       "      <td>Tum jitna marzi pubg free fire ludo khel lo.. ...</td>\n",
       "    </tr>\n",
       "    <tr>\n",
       "      <th>...</th>\n",
       "      <td>...</td>\n",
       "    </tr>\n",
       "    <tr>\n",
       "      <th>322971</th>\n",
       "      <td>#PUBG\\n実験カスタムにも関わらずご参加いただいた方々に感謝です。\\n\\n初戦、灰狼らし...</td>\n",
       "    </tr>\n",
       "    <tr>\n",
       "      <th>322972</th>\n",
       "      <td>@PUBG_Chikwa0116 いつもかわいいツイートありがと🐤❤︎</td>\n",
       "    </tr>\n",
       "    <tr>\n",
       "      <th>322973</th>\n",
       "      <td>@GoonMobileYT @4ceLawrence @PUBGMOBILE @NEWSTA...</td>\n",
       "    </tr>\n",
       "    <tr>\n",
       "      <th>322974</th>\n",
       "      <td>TIMES RUNNING OUT ⏰ \\n\\nDON'T MISS YOUR CHANCE...</td>\n",
       "    </tr>\n",
       "    <tr>\n",
       "      <th>322975</th>\n",
       "      <td>Confira minha transmissão do meu PlayStation 4...</td>\n",
       "    </tr>\n",
       "  </tbody>\n",
       "</table>\n",
       "<p>322976 rows × 1 columns</p>\n",
       "</div>"
      ],
      "text/plain": [
       "                                                     Text\n",
       "0       @BigaofTEDG @NaFreshDeyTrend @jadadeeva Ona no...\n",
       "1       @popo_pubg_1214 @pubg_gunfinger めっちゃ集まるwwww\\n集...\n",
       "2                                  @rouya_pubg 大丈夫だよなんとか🥺\n",
       "3       @onib_pubg かなりやばいですねそれ…\\nでも仕方ないからゲームは控えめにして、おさ...\n",
       "4       Tum jitna marzi pubg free fire ludo khel lo.. ...\n",
       "...                                                   ...\n",
       "322971  #PUBG\\n実験カスタムにも関わらずご参加いただいた方々に感謝です。\\n\\n初戦、灰狼らし...\n",
       "322972                @PUBG_Chikwa0116 いつもかわいいツイートありがと🐤❤︎\n",
       "322973  @GoonMobileYT @4ceLawrence @PUBGMOBILE @NEWSTA...\n",
       "322974  TIMES RUNNING OUT ⏰ \\n\\nDON'T MISS YOUR CHANCE...\n",
       "322975  Confira minha transmissão do meu PlayStation 4...\n",
       "\n",
       "[322976 rows x 1 columns]"
      ]
     },
     "execution_count": 5,
     "metadata": {},
     "output_type": "execute_result"
    }
   ],
   "source": [
    "df"
   ]
  },
  {
   "cell_type": "code",
   "execution_count": 6,
   "id": "917bfd8b",
   "metadata": {},
   "outputs": [
    {
     "name": "stderr",
     "output_type": "stream",
     "text": [
      "C:\\Users\\82106\\AppData\\Local\\Temp/ipykernel_15072/3000422938.py:25: SettingWithCopyWarning: \n",
      "A value is trying to be set on a copy of a slice from a DataFrame.\n",
      "Try using .loc[row_indexer,col_indexer] = value instead\n",
      "\n",
      "See the caveats in the documentation: https://pandas.pydata.org/pandas-docs/stable/user_guide/indexing.html#returning-a-view-versus-a-copy\n",
      "  df['Text'] = df['Text'].apply(lambda x : preprocessing(x))\n"
     ]
    }
   ],
   "source": [
    "# 전처리 함수 내 사용\n",
    "contractions = {\"ain't\": \"is not\", \"aren't\": \"are not\",\"can't\": \"cannot\", \"'cause\": \"because\", \"could've\": \"could have\", \"couldn't\": \"could not\", \"didn't\": \"did not\",  \"doesn't\": \"does not\", \"don't\": \"do not\", \"hadn't\": \"had not\", \"hasn't\": \"has not\", \"haven't\": \"have not\", \"he'd\": \"he would\",\"he'll\": \"he will\", \"he's\": \"he is\", \"how'd\": \"how did\", \"how'd'y\": \"how do you\", \"how'll\": \"how will\", \"how's\": \"how is\", \"I'd\": \"I would\", \"I'd've\": \"I would have\", \"I'll\": \"I will\", \"I'll've\": \"I will have\",\"I'm\": \"I am\", \"I've\": \"I have\", \"i'd\": \"i would\", \"i'd've\": \"i would have\", \"i'll\": \"i will\",  \"i'll've\": \"i will have\",\"i'm\": \"i am\", \"i've\": \"i have\", \"isn't\": \"is not\", \"it'd\": \"it would\", \"it'd've\": \"it would have\", \"it'll\": \"it will\", \"it'll've\": \"it will have\",\"it's\": \"it is\", \"let's\": \"let us\", \"ma'am\": \"madam\", \"mayn't\": \"may not\", \"might've\": \"might have\",\"mightn't\": \"might not\",\"mightn't've\": \"might not have\", \"must've\": \"must have\", \"mustn't\": \"must not\", \"mustn't've\": \"must not have\", \"needn't\": \"need not\", \"needn't've\": \"need not have\",\"o'clock\": \"of the clock\", \"oughtn't\": \"ought not\", \"oughtn't've\": \"ought not have\", \"shan't\": \"shall not\", \"sha'n't\": \"shall not\", \"shan't've\": \"shall not have\", \"she'd\": \"she would\", \"she'd've\": \"she would have\", \"she'll\": \"she will\", \"she'll've\": \"she will have\", \"she's\": \"she is\", \"should've\": \"should have\", \"shouldn't\": \"should not\", \"shouldn't've\": \"should not have\", \"so've\": \"so have\",\"so's\": \"so as\", \"this's\": \"this is\",\"that'd\": \"that would\", \"that'd've\": \"that would have\", \"that's\": \"that is\", \"there'd\": \"there would\", \"there'd've\": \"there would have\", \"there's\": \"there is\", \"here's\": \"here is\",\"they'd\": \"they would\", \"they'd've\": \"they would have\", \"they'll\": \"they will\", \"they'll've\": \"they will have\", \"they're\": \"they are\", \"they've\": \"they have\", \"to've\": \"to have\", \"wasn't\": \"was not\", \"we'd\": \"we would\", \"we'd've\": \"we would have\", \"we'll\": \"we will\", \"we'll've\": \"we will have\", \"we're\": \"we are\", \"we've\": \"we have\", \"weren't\": \"were not\", \"what'll\": \"what will\", \"what'll've\": \"what will have\", \"what're\": \"what are\", \"what's\": \"what is\", \"what've\": \"what have\", \"when's\": \"when is\", \"when've\": \"when have\", \"where'd\": \"where did\", \"where's\": \"where is\", \"where've\": \"where have\", \"who'll\": \"who will\", \"who'll've\": \"who will have\", \"who's\": \"who is\", \"who've\": \"who have\", \"why's\": \"why is\", \"why've\": \"why have\", \"will've\": \"will have\", \"won't\": \"will not\", \"won't've\": \"will not have\", \"would've\": \"would have\", \"wouldn't\": \"would not\", \"wouldn't've\": \"would not have\", \"y'all\": \"you all\", \"y'all'd\": \"you all would\",\"y'all'd've\": \"you all would have\",\"y'all're\": \"you all are\",\"y'all've\": \"you all have\", \"you'd\": \"you would\", \"you'd've\": \"you would have\", \"you'll\": \"you will\", \"you'll've\": \"you will have\", \"you're\": \"you are\", \"you've\": \"you have\", \"&gt;\" : \"is greater than\", \"&lt;\" : \"is less than\", \"&nbsp;\": \" \", \"&amp;\" : \"and\", \"&quot;\" : '\"'}\n",
    "\n",
    "\n",
    "def preprocessing(data) :\n",
    "    data = re.sub('’|‘|´|`', '\\'', data)\n",
    "    data = re.sub('\\\\n', ' ', data)\n",
    "    # lowering\n",
    "    data = data.lower()\n",
    "    #prevent removing \"leage of legends\" \n",
    "    data = re.sub('league of legends', 'leagueoflegends', data)\n",
    "    # normalize abbreviation\n",
    "    data = ' '.join([contractions[t] if t in contractions else t for t in data.split(\" \")])\n",
    "    # clean corpus to remove emoji and URL\n",
    "    data = p.clean(data)\n",
    "    # remove numbers and punctuations\n",
    "    data = re.sub(r'[^A-Za-z ]', ' ', data)\n",
    "    # remove duplicated alphabets\n",
    "    data = re.sub(r'([A-Za-z])\\1{2,}', r'\\1', data)\n",
    "    data = ' '.join(data.split())\n",
    "    \n",
    "    return data\n",
    "\n",
    "# 전처리\n",
    "df['Text'] = df['Text'].apply(lambda x : preprocessing(x))\n",
    "df_temp = df[df['Text'] == ''].index\n",
    "df = df.drop(df_temp)"
   ]
  },
  {
   "cell_type": "code",
   "execution_count": 7,
   "id": "ac86210d",
   "metadata": {},
   "outputs": [
    {
     "data": {
      "text/html": [
       "<div>\n",
       "<style scoped>\n",
       "    .dataframe tbody tr th:only-of-type {\n",
       "        vertical-align: middle;\n",
       "    }\n",
       "\n",
       "    .dataframe tbody tr th {\n",
       "        vertical-align: top;\n",
       "    }\n",
       "\n",
       "    .dataframe thead th {\n",
       "        text-align: right;\n",
       "    }\n",
       "</style>\n",
       "<table border=\"1\" class=\"dataframe\">\n",
       "  <thead>\n",
       "    <tr style=\"text-align: right;\">\n",
       "      <th></th>\n",
       "      <th>Text</th>\n",
       "    </tr>\n",
       "  </thead>\n",
       "  <tbody>\n",
       "    <tr>\n",
       "      <th>0</th>\n",
       "      <td>ona no dey play pubg</td>\n",
       "    </tr>\n",
       "    <tr>\n",
       "      <th>1</th>\n",
       "      <td>w</td>\n",
       "    </tr>\n",
       "    <tr>\n",
       "      <th>4</th>\n",
       "      <td>tum jitna marzi pubg free fire ludo khel lo le...</td>\n",
       "    </tr>\n",
       "    <tr>\n",
       "      <th>6</th>\n",
       "      <td>pubg</td>\n",
       "    </tr>\n",
       "    <tr>\n",
       "      <th>7</th>\n",
       "      <td>pubg</td>\n",
       "    </tr>\n",
       "    <tr>\n",
       "      <th>...</th>\n",
       "      <td>...</td>\n",
       "    </tr>\n",
       "    <tr>\n",
       "      <th>322970</th>\n",
       "      <td>of course</td>\n",
       "    </tr>\n",
       "    <tr>\n",
       "      <th>322971</th>\n",
       "      <td>mama</td>\n",
       "    </tr>\n",
       "    <tr>\n",
       "      <th>322973</th>\n",
       "      <td>love the mini</td>\n",
       "    </tr>\n",
       "    <tr>\n",
       "      <th>322974</th>\n",
       "      <td>times running out do not miss your chance to w...</td>\n",
       "    </tr>\n",
       "    <tr>\n",
       "      <th>322975</th>\n",
       "      <td>confira minha transmisso do meu playstation pu...</td>\n",
       "    </tr>\n",
       "  </tbody>\n",
       "</table>\n",
       "<p>224434 rows × 1 columns</p>\n",
       "</div>"
      ],
      "text/plain": [
       "                                                     Text\n",
       "0                                    ona no dey play pubg\n",
       "1                                                       w\n",
       "4       tum jitna marzi pubg free fire ludo khel lo le...\n",
       "6                                                    pubg\n",
       "7                                                    pubg\n",
       "...                                                   ...\n",
       "322970                                          of course\n",
       "322971                                               mama\n",
       "322973                                      love the mini\n",
       "322974  times running out do not miss your chance to w...\n",
       "322975  confira minha transmisso do meu playstation pu...\n",
       "\n",
       "[224434 rows x 1 columns]"
      ]
     },
     "execution_count": 7,
     "metadata": {},
     "output_type": "execute_result"
    }
   ],
   "source": [
    "df"
   ]
  },
  {
   "cell_type": "code",
   "execution_count": 15,
   "id": "1d1ae1ed",
   "metadata": {},
   "outputs": [],
   "source": [
    "# 불용어 사진\n",
    "stop_words = set(stopwords.words('english')) \n",
    "\n",
    "def approx_english_detection(line) :\n",
    "    total_words = line.split()\n",
    "    stops_num = 0;\n",
    "    for w in total_words: \n",
    "        if w in stop_words : stops_num += 1\n",
    "    if(stops_num > 0) : return 'en'\n",
    "    return 'other'"
   ]
  },
  {
   "cell_type": "code",
   "execution_count": 16,
   "id": "cadca94c",
   "metadata": {},
   "outputs": [],
   "source": [
    "df['approx'] = df['Text'].apply(lambda x : approx_english_detection(x))"
   ]
  },
  {
   "cell_type": "code",
   "execution_count": 17,
   "id": "ace7e750",
   "metadata": {},
   "outputs": [
    {
     "data": {
      "text/plain": [
       "other    148209\n",
       "en        76225\n",
       "Name: approx, dtype: int64"
      ]
     },
     "execution_count": 17,
     "metadata": {},
     "output_type": "execute_result"
    }
   ],
   "source": [
    "df['approx'].value_counts()"
   ]
  },
  {
   "cell_type": "code",
   "execution_count": 18,
   "id": "9e78d395",
   "metadata": {},
   "outputs": [
    {
     "data": {
      "text/html": [
       "<div>\n",
       "<style scoped>\n",
       "    .dataframe tbody tr th:only-of-type {\n",
       "        vertical-align: middle;\n",
       "    }\n",
       "\n",
       "    .dataframe tbody tr th {\n",
       "        vertical-align: top;\n",
       "    }\n",
       "\n",
       "    .dataframe thead th {\n",
       "        text-align: right;\n",
       "    }\n",
       "</style>\n",
       "<table border=\"1\" class=\"dataframe\">\n",
       "  <thead>\n",
       "    <tr style=\"text-align: right;\">\n",
       "      <th></th>\n",
       "      <th>Text</th>\n",
       "      <th>approx</th>\n",
       "    </tr>\n",
       "  </thead>\n",
       "  <tbody>\n",
       "    <tr>\n",
       "      <th>1</th>\n",
       "      <td>w</td>\n",
       "      <td>other</td>\n",
       "    </tr>\n",
       "    <tr>\n",
       "      <th>4</th>\n",
       "      <td>tum jitna marzi pubg free fire ludo khel lo le...</td>\n",
       "      <td>other</td>\n",
       "    </tr>\n",
       "    <tr>\n",
       "      <th>6</th>\n",
       "      <td>pubg</td>\n",
       "      <td>other</td>\n",
       "    </tr>\n",
       "    <tr>\n",
       "      <th>7</th>\n",
       "      <td>pubg</td>\n",
       "      <td>other</td>\n",
       "    </tr>\n",
       "    <tr>\n",
       "      <th>8</th>\n",
       "      <td>pubg de senin grev</td>\n",
       "      <td>other</td>\n",
       "    </tr>\n",
       "    <tr>\n",
       "      <th>...</th>\n",
       "      <td>...</td>\n",
       "      <td>...</td>\n",
       "    </tr>\n",
       "    <tr>\n",
       "      <th>322961</th>\n",
       "      <td>pubg oynayan erkek yalnzdr</td>\n",
       "      <td>other</td>\n",
       "    </tr>\n",
       "    <tr>\n",
       "      <th>322964</th>\n",
       "      <td>pubgheaven</td>\n",
       "      <td>other</td>\n",
       "    </tr>\n",
       "    <tr>\n",
       "      <th>322967</th>\n",
       "      <td>uzun bir zamandan sonra pubg indirdim inallah ...</td>\n",
       "      <td>other</td>\n",
       "    </tr>\n",
       "    <tr>\n",
       "      <th>322968</th>\n",
       "      <td>w</td>\n",
       "      <td>other</td>\n",
       "    </tr>\n",
       "    <tr>\n",
       "      <th>322971</th>\n",
       "      <td>mama</td>\n",
       "      <td>other</td>\n",
       "    </tr>\n",
       "  </tbody>\n",
       "</table>\n",
       "<p>148209 rows × 2 columns</p>\n",
       "</div>"
      ],
      "text/plain": [
       "                                                     Text approx\n",
       "1                                                       w  other\n",
       "4       tum jitna marzi pubg free fire ludo khel lo le...  other\n",
       "6                                                    pubg  other\n",
       "7                                                    pubg  other\n",
       "8                                      pubg de senin grev  other\n",
       "...                                                   ...    ...\n",
       "322961                         pubg oynayan erkek yalnzdr  other\n",
       "322964                                         pubgheaven  other\n",
       "322967  uzun bir zamandan sonra pubg indirdim inallah ...  other\n",
       "322968                                                  w  other\n",
       "322971                                               mama  other\n",
       "\n",
       "[148209 rows x 2 columns]"
      ]
     },
     "execution_count": 18,
     "metadata": {},
     "output_type": "execute_result"
    }
   ],
   "source": [
    "df.loc[df['approx'] == 'other']"
   ]
  },
  {
   "cell_type": "code",
   "execution_count": 2,
   "id": "6191e3d7",
   "metadata": {},
   "outputs": [],
   "source": [
    "import nltk\n",
    "\n",
    "# 아마 이거 다운로드 받아야될텐데 어케 받았는지 기억이 안남 ㅎㅎ 아님 말고~\n",
    "words = set(nltk.corpus.words.words())\n",
    "\n",
    "#이게 그냥 영어사전으로 하는거\n",
    "def approx_english_detection2(line) :\n",
    "    total_words = line.split()\n",
    "    eng_num = 0;\n",
    "    for w in total_words: \n",
    "        if w in words : eng_num += 1\n",
    "    if(eng_num > 0) : return 'en'\n",
    "    return 'other'"
   ]
  },
  {
   "cell_type": "code",
   "execution_count": 30,
   "id": "9d6f1436",
   "metadata": {},
   "outputs": [],
   "source": [
    "df['approx2'] = df['Text'].apply(lambda x : approx_english_detection2(x))"
   ]
  },
  {
   "cell_type": "code",
   "execution_count": 31,
   "id": "8f03cf3e",
   "metadata": {},
   "outputs": [
    {
     "data": {
      "text/plain": [
       "en       166168\n",
       "other     58266\n",
       "Name: approx2, dtype: int64"
      ]
     },
     "execution_count": 31,
     "metadata": {},
     "output_type": "execute_result"
    }
   ],
   "source": [
    "df['approx2'].value_counts()"
   ]
  },
  {
   "cell_type": "code",
   "execution_count": 3,
   "id": "80981e48",
   "metadata": {},
   "outputs": [
    {
     "data": {
      "text/plain": [
       "235892"
      ]
     },
     "execution_count": 3,
     "metadata": {},
     "output_type": "execute_result"
    }
   ],
   "source": [
    "len(words)"
   ]
  }
 ],
 "metadata": {
  "kernelspec": {
   "display_name": "Python 3 (ipykernel)",
   "language": "python",
   "name": "python3"
  },
  "language_info": {
   "codemirror_mode": {
    "name": "ipython",
    "version": 3
   },
   "file_extension": ".py",
   "mimetype": "text/x-python",
   "name": "python",
   "nbconvert_exporter": "python",
   "pygments_lexer": "ipython3",
   "version": "3.9.7"
  }
 },
 "nbformat": 4,
 "nbformat_minor": 5
}
