{
 "cells": [
  {
   "cell_type": "code",
   "execution_count": 1,
   "id": "a549f51a",
   "metadata": {},
   "outputs": [],
   "source": [
    "import pandas as pd\n",
    "import numpy as np\n",
    "import string\n",
    "import preprocessor as p\n",
    "import re\n",
    "from nltk.corpus import stopwords\n",
    "import nltk\n",
    "import os\n",
    "import urllib.request\n",
    "url = \"https://openapi.naver.com/v1/papago/detectLangs\"\n",
    "request = urllib.request.Request(url)\n",
    "request.add_header(\"X-Naver-Client-Id\",client_id)\n",
    "request.add_header(\"X-Naver-Client-Secret\",client_secret)"
   ]
  },
  {
   "cell_type": "code",
   "execution_count": 3,
   "id": "d98d9036",
   "metadata": {},
   "outputs": [],
   "source": [
    "df = pd.read_csv(\"./corpus/crossfirex/crossfireX_2022-02-10_2022-05-18_tweetdata.csv\", encoding='UTF-8').astype(str)"
   ]
  },
  {
   "cell_type": "code",
   "execution_count": 5,
   "id": "edfdbb00",
   "metadata": {},
   "outputs": [],
   "source": [
    "df = df[['Text']]"
   ]
  },
  {
   "cell_type": "code",
   "execution_count": 6,
   "id": "aaa103ff",
   "metadata": {
    "scrolled": false
   },
   "outputs": [
    {
     "data": {
      "text/html": [
       "<div>\n",
       "<style scoped>\n",
       "    .dataframe tbody tr th:only-of-type {\n",
       "        vertical-align: middle;\n",
       "    }\n",
       "\n",
       "    .dataframe tbody tr th {\n",
       "        vertical-align: top;\n",
       "    }\n",
       "\n",
       "    .dataframe thead th {\n",
       "        text-align: right;\n",
       "    }\n",
       "</style>\n",
       "<table border=\"1\" class=\"dataframe\">\n",
       "  <thead>\n",
       "    <tr style=\"text-align: right;\">\n",
       "      <th></th>\n",
       "      <th>Text</th>\n",
       "    </tr>\n",
       "  </thead>\n",
       "  <tbody>\n",
       "    <tr>\n",
       "      <th>0</th>\n",
       "      <td>MSI Gaming Radeon RX 6800 16GB GDDR6 PCI Expre...</td>\n",
       "    </tr>\n",
       "    <tr>\n",
       "      <th>1</th>\n",
       "      <td>Tune into the Official #CrossfireX Twitch Page...</td>\n",
       "    </tr>\n",
       "    <tr>\n",
       "      <th>2</th>\n",
       "      <td>MSI Gaming Radeon RX 6800 16GB GDDR6 PCI Expre...</td>\n",
       "    </tr>\n",
       "    <tr>\n",
       "      <th>3</th>\n",
       "      <td>Leo Loko27 played CrossfireX (Xbox) in the las...</td>\n",
       "    </tr>\n",
       "    <tr>\n",
       "      <th>4</th>\n",
       "      <td>@pedriran ta louco meu patrão, arma vai vir re...</td>\n",
       "    </tr>\n",
       "    <tr>\n",
       "      <th>...</th>\n",
       "      <td>...</td>\n",
       "    </tr>\n",
       "    <tr>\n",
       "      <th>11384</th>\n",
       "      <td>We Live baby! 🔥🔥 🔫 🔫 #crossfireX https://t.co/...</td>\n",
       "    </tr>\n",
       "    <tr>\n",
       "      <th>11385</th>\n",
       "      <td>@weaver_colt @hylianwitcher @MrCh1valry Also, ...</td>\n",
       "    </tr>\n",
       "    <tr>\n",
       "      <th>11386</th>\n",
       "      <td>CrossfireX (Xbox One) Achievements https://t.c...</td>\n",
       "    </tr>\n",
       "    <tr>\n",
       "      <th>11387</th>\n",
       "      <td>GO GO GO!\\n\\nCrossfireX: Operation Catalyst já...</td>\n",
       "    </tr>\n",
       "    <tr>\n",
       "      <th>11388</th>\n",
       "      <td>CrossfireX já está disponível!\\n\\n- Campanha (...</td>\n",
       "    </tr>\n",
       "  </tbody>\n",
       "</table>\n",
       "<p>11389 rows × 1 columns</p>\n",
       "</div>"
      ],
      "text/plain": [
       "                                                    Text\n",
       "0      MSI Gaming Radeon RX 6800 16GB GDDR6 PCI Expre...\n",
       "1      Tune into the Official #CrossfireX Twitch Page...\n",
       "2      MSI Gaming Radeon RX 6800 16GB GDDR6 PCI Expre...\n",
       "3      Leo Loko27 played CrossfireX (Xbox) in the las...\n",
       "4      @pedriran ta louco meu patrão, arma vai vir re...\n",
       "...                                                  ...\n",
       "11384  We Live baby! 🔥🔥 🔫 🔫 #crossfireX https://t.co/...\n",
       "11385  @weaver_colt @hylianwitcher @MrCh1valry Also, ...\n",
       "11386  CrossfireX (Xbox One) Achievements https://t.c...\n",
       "11387  GO GO GO!\\n\\nCrossfireX: Operation Catalyst já...\n",
       "11388  CrossfireX já está disponível!\\n\\n- Campanha (...\n",
       "\n",
       "[11389 rows x 1 columns]"
      ]
     },
     "execution_count": 6,
     "metadata": {},
     "output_type": "execute_result"
    }
   ],
   "source": [
    "df"
   ]
  },
  {
   "cell_type": "code",
   "execution_count": 7,
   "id": "037532dd",
   "metadata": {},
   "outputs": [
    {
     "name": "stderr",
     "output_type": "stream",
     "text": [
      "C:\\Users\\82106\\AppData\\Local\\Temp/ipykernel_16160/3327496544.py:22: SettingWithCopyWarning: \n",
      "A value is trying to be set on a copy of a slice from a DataFrame.\n",
      "Try using .loc[row_indexer,col_indexer] = value instead\n",
      "\n",
      "See the caveats in the documentation: https://pandas.pydata.org/pandas-docs/stable/user_guide/indexing.html#returning-a-view-versus-a-copy\n",
      "  df['Preprocess'] = df['Text'].apply(lambda x : preprocessing(x))\n"
     ]
    }
   ],
   "source": [
    "# 전처리 함수 내 사용\n",
    "contractions = {\"ain't\": \"is not\", \"aren't\": \"are not\",\"can't\": \"cannot\", \"'cause\": \"because\", \"could've\": \"could have\", \"couldn't\": \"could not\", \"didn't\": \"did not\",  \"doesn't\": \"does not\", \"don't\": \"do not\", \"hadn't\": \"had not\", \"hasn't\": \"has not\", \"haven't\": \"have not\", \"he'd\": \"he would\",\"he'll\": \"he will\", \"he's\": \"he is\", \"how'd\": \"how did\", \"how'd'y\": \"how do you\", \"how'll\": \"how will\", \"how's\": \"how is\", \"I'd\": \"I would\", \"I'd've\": \"I would have\", \"I'll\": \"I will\", \"I'll've\": \"I will have\",\"I'm\": \"I am\", \"I've\": \"I have\", \"i'd\": \"i would\", \"i'd've\": \"i would have\", \"i'll\": \"i will\",  \"i'll've\": \"i will have\",\"i'm\": \"i am\", \"i've\": \"i have\", \"isn't\": \"is not\", \"it'd\": \"it would\", \"it'd've\": \"it would have\", \"it'll\": \"it will\", \"it'll've\": \"it will have\",\"it's\": \"it is\", \"let's\": \"let us\", \"ma'am\": \"madam\", \"mayn't\": \"may not\", \"might've\": \"might have\",\"mightn't\": \"might not\",\"mightn't've\": \"might not have\", \"must've\": \"must have\", \"mustn't\": \"must not\", \"mustn't've\": \"must not have\", \"needn't\": \"need not\", \"needn't've\": \"need not have\",\"o'clock\": \"of the clock\", \"oughtn't\": \"ought not\", \"oughtn't've\": \"ought not have\", \"shan't\": \"shall not\", \"sha'n't\": \"shall not\", \"shan't've\": \"shall not have\", \"she'd\": \"she would\", \"she'd've\": \"she would have\", \"she'll\": \"she will\", \"she'll've\": \"she will have\", \"she's\": \"she is\", \"should've\": \"should have\", \"shouldn't\": \"should not\", \"shouldn't've\": \"should not have\", \"so've\": \"so have\",\"so's\": \"so as\", \"this's\": \"this is\",\"that'd\": \"that would\", \"that'd've\": \"that would have\", \"that's\": \"that is\", \"there'd\": \"there would\", \"there'd've\": \"there would have\", \"there's\": \"there is\", \"here's\": \"here is\",\"they'd\": \"they would\", \"they'd've\": \"they would have\", \"they'll\": \"they will\", \"they'll've\": \"they will have\", \"they're\": \"they are\", \"they've\": \"they have\", \"to've\": \"to have\", \"wasn't\": \"was not\", \"we'd\": \"we would\", \"we'd've\": \"we would have\", \"we'll\": \"we will\", \"we'll've\": \"we will have\", \"we're\": \"we are\", \"we've\": \"we have\", \"weren't\": \"were not\", \"what'll\": \"what will\", \"what'll've\": \"what will have\", \"what're\": \"what are\", \"what's\": \"what is\", \"what've\": \"what have\", \"when's\": \"when is\", \"when've\": \"when have\", \"where'd\": \"where did\", \"where's\": \"where is\", \"where've\": \"where have\", \"who'll\": \"who will\", \"who'll've\": \"who will have\", \"who's\": \"who is\", \"who've\": \"who have\", \"why's\": \"why is\", \"why've\": \"why have\", \"will've\": \"will have\", \"won't\": \"will not\", \"won't've\": \"will not have\", \"would've\": \"would have\", \"wouldn't\": \"would not\", \"wouldn't've\": \"would not have\", \"y'all\": \"you all\", \"y'all'd\": \"you all would\",\"y'all'd've\": \"you all would have\",\"y'all're\": \"you all are\",\"y'all've\": \"you all have\", \"you'd\": \"you would\", \"you'd've\": \"you would have\", \"you'll\": \"you will\", \"you'll've\": \"you will have\", \"you're\": \"you are\", \"you've\": \"you have\", \"&gt;\" : \"is greater than\", \"&lt;\" : \"is less than\", \"&nbsp;\": \" \", \"&amp;\" : \"and\", \"&quot;\" : '\"'}\n",
    "\n",
    "def preprocessing(data) :\n",
    "    data = re.sub('’|‘|´|`', '\\'', data)\n",
    "    data = re.sub('\\\\n', ' ', data)\n",
    "    # lowering\n",
    "    data = data.lower()\n",
    "    # normalize abbreviation\n",
    "    data = ' '.join([contractions[t] if t in contractions else t for t in data.split(\" \")])\n",
    "    # clean corpus to remove emoji and URL\n",
    "    data = p.clean(data)\n",
    "    # remove numbers and punctuations\n",
    "    data = re.sub(r'[^A-Za-z ]', ' ', data)\n",
    "    # remove duplicated alphabets\n",
    "    data = re.sub(r'([A-Za-z])\\1{2,}', r'\\1', data)\n",
    "    data = ' '.join(data.split())\n",
    "    \n",
    "    return data\n",
    "\n",
    "# 전처리\n",
    "df['Preprocess'] = df['Text'].apply(lambda x : preprocessing(x))\n",
    "df_temp = df[df['Preprocess'] == ''].index\n",
    "df = df.drop(df_temp)"
   ]
  },
  {
   "cell_type": "code",
   "execution_count": 8,
   "id": "4cfa309b",
   "metadata": {
    "scrolled": false
   },
   "outputs": [
    {
     "data": {
      "text/html": [
       "<div>\n",
       "<style scoped>\n",
       "    .dataframe tbody tr th:only-of-type {\n",
       "        vertical-align: middle;\n",
       "    }\n",
       "\n",
       "    .dataframe tbody tr th {\n",
       "        vertical-align: top;\n",
       "    }\n",
       "\n",
       "    .dataframe thead th {\n",
       "        text-align: right;\n",
       "    }\n",
       "</style>\n",
       "<table border=\"1\" class=\"dataframe\">\n",
       "  <thead>\n",
       "    <tr style=\"text-align: right;\">\n",
       "      <th></th>\n",
       "      <th>Text</th>\n",
       "      <th>Preprocess</th>\n",
       "    </tr>\n",
       "  </thead>\n",
       "  <tbody>\n",
       "    <tr>\n",
       "      <th>0</th>\n",
       "      <td>MSI Gaming Radeon RX 6800 16GB GDDR6 PCI Expre...</td>\n",
       "      <td>msi gaming radeon rx gb gddr pci express cross...</td>\n",
       "    </tr>\n",
       "    <tr>\n",
       "      <th>1</th>\n",
       "      <td>Tune into the Official #CrossfireX Twitch Page...</td>\n",
       "      <td>tune into the official twitch page tomorrow fo...</td>\n",
       "    </tr>\n",
       "    <tr>\n",
       "      <th>2</th>\n",
       "      <td>MSI Gaming Radeon RX 6800 16GB GDDR6 PCI Expre...</td>\n",
       "      <td>msi gaming radeon rx gb gddr pci express cross...</td>\n",
       "    </tr>\n",
       "    <tr>\n",
       "      <th>3</th>\n",
       "      <td>Leo Loko27 played CrossfireX (Xbox) in the las...</td>\n",
       "      <td>leo loko played crossfirex xbox in the last hours</td>\n",
       "    </tr>\n",
       "    <tr>\n",
       "      <th>4</th>\n",
       "      <td>@pedriran ta louco meu patrão, arma vai vir re...</td>\n",
       "      <td>ta louco meu patro arma vai vir redondinho bon...</td>\n",
       "    </tr>\n",
       "    <tr>\n",
       "      <th>...</th>\n",
       "      <td>...</td>\n",
       "      <td>...</td>\n",
       "    </tr>\n",
       "    <tr>\n",
       "      <th>11384</th>\n",
       "      <td>We Live baby! 🔥🔥 🔫 🔫 #crossfireX https://t.co/...</td>\n",
       "      <td>we live baby</td>\n",
       "    </tr>\n",
       "    <tr>\n",
       "      <th>11385</th>\n",
       "      <td>@weaver_colt @hylianwitcher @MrCh1valry Also, ...</td>\n",
       "      <td>also lots of year left me thinks mr auto draft...</td>\n",
       "    </tr>\n",
       "    <tr>\n",
       "      <th>11386</th>\n",
       "      <td>CrossfireX (Xbox One) Achievements https://t.c...</td>\n",
       "      <td>crossfirex xbox one achievements</td>\n",
       "    </tr>\n",
       "    <tr>\n",
       "      <th>11387</th>\n",
       "      <td>GO GO GO!\\n\\nCrossfireX: Operation Catalyst já...</td>\n",
       "      <td>go go go crossfirex operation catalyst j est d...</td>\n",
       "    </tr>\n",
       "    <tr>\n",
       "      <th>11388</th>\n",
       "      <td>CrossfireX já está disponível!\\n\\n- Campanha (...</td>\n",
       "      <td>crossfirex j est disponvel campanha desenvolvi...</td>\n",
       "    </tr>\n",
       "  </tbody>\n",
       "</table>\n",
       "<p>10073 rows × 2 columns</p>\n",
       "</div>"
      ],
      "text/plain": [
       "                                                    Text  \\\n",
       "0      MSI Gaming Radeon RX 6800 16GB GDDR6 PCI Expre...   \n",
       "1      Tune into the Official #CrossfireX Twitch Page...   \n",
       "2      MSI Gaming Radeon RX 6800 16GB GDDR6 PCI Expre...   \n",
       "3      Leo Loko27 played CrossfireX (Xbox) in the las...   \n",
       "4      @pedriran ta louco meu patrão, arma vai vir re...   \n",
       "...                                                  ...   \n",
       "11384  We Live baby! 🔥🔥 🔫 🔫 #crossfireX https://t.co/...   \n",
       "11385  @weaver_colt @hylianwitcher @MrCh1valry Also, ...   \n",
       "11386  CrossfireX (Xbox One) Achievements https://t.c...   \n",
       "11387  GO GO GO!\\n\\nCrossfireX: Operation Catalyst já...   \n",
       "11388  CrossfireX já está disponível!\\n\\n- Campanha (...   \n",
       "\n",
       "                                              Preprocess  \n",
       "0      msi gaming radeon rx gb gddr pci express cross...  \n",
       "1      tune into the official twitch page tomorrow fo...  \n",
       "2      msi gaming radeon rx gb gddr pci express cross...  \n",
       "3      leo loko played crossfirex xbox in the last hours  \n",
       "4      ta louco meu patro arma vai vir redondinho bon...  \n",
       "...                                                  ...  \n",
       "11384                                       we live baby  \n",
       "11385  also lots of year left me thinks mr auto draft...  \n",
       "11386                   crossfirex xbox one achievements  \n",
       "11387  go go go crossfirex operation catalyst j est d...  \n",
       "11388  crossfirex j est disponvel campanha desenvolvi...  \n",
       "\n",
       "[10073 rows x 2 columns]"
      ]
     },
     "execution_count": 8,
     "metadata": {},
     "output_type": "execute_result"
    }
   ],
   "source": [
    "df"
   ]
  },
  {
   "cell_type": "code",
   "execution_count": 11,
   "id": "20c3543b",
   "metadata": {},
   "outputs": [],
   "source": [
    "words = set(nltk.corpus.words.words())"
   ]
  },
  {
   "cell_type": "code",
   "execution_count": 12,
   "id": "6b6bfdd4",
   "metadata": {},
   "outputs": [],
   "source": [
    "def approx_english_detection_count(line, bound_cnt = 1) :\n",
    "    total_words = line.split()\n",
    "    eng_num = 0;\n",
    "    for w in total_words: \n",
    "        if w in words : eng_num += 1\n",
    "    if(eng_num >= bound_cnt) : return 'en'\n",
    "    return 'other'"
   ]
  },
  {
   "cell_type": "code",
   "execution_count": 13,
   "id": "33612674",
   "metadata": {},
   "outputs": [],
   "source": [
    "def approx_english_detection_ratio(line, bound_ratio = 0.5) :\n",
    "    total_words = line.split()\n",
    "    eng_num = 0;\n",
    "    for w in total_words: \n",
    "        if w in words : eng_num += 1\n",
    "    if(eng_num / len(total_words) >= bound_ratio) : return 'en'\n",
    "    return 'other'"
   ]
  },
  {
   "cell_type": "code",
   "execution_count": 15,
   "id": "b4228db3",
   "metadata": {},
   "outputs": [],
   "source": [
    "def papago_detection(line) :\n",
    "    encQuery = urllib.parse.quote(line)\n",
    "    data = \"query=\" + encQuery\n",
    "    response = urllib.request.urlopen(request, data=data.encode(\"utf-8\"))\n",
    "    rescode = response.getcode()\n",
    "    if(rescode == 200):\n",
    "        return response.read().decode('utf-8')[13:15] \n",
    "    return 'error'"
   ]
  },
  {
   "cell_type": "code",
   "execution_count": 16,
   "id": "7cf87e6d",
   "metadata": {},
   "outputs": [],
   "source": [
    "df['papago'] = df['Text'].apply(lambda x : papago_detection(x))"
   ]
  },
  {
   "cell_type": "code",
   "execution_count": 42,
   "id": "65111f02",
   "metadata": {},
   "outputs": [
    {
     "data": {
      "text/html": [
       "<div>\n",
       "<style scoped>\n",
       "    .dataframe tbody tr th:only-of-type {\n",
       "        vertical-align: middle;\n",
       "    }\n",
       "\n",
       "    .dataframe tbody tr th {\n",
       "        vertical-align: top;\n",
       "    }\n",
       "\n",
       "    .dataframe thead th {\n",
       "        text-align: right;\n",
       "    }\n",
       "</style>\n",
       "<table border=\"1\" class=\"dataframe\">\n",
       "  <thead>\n",
       "    <tr style=\"text-align: right;\">\n",
       "      <th></th>\n",
       "      <th>Text</th>\n",
       "      <th>Preprocess</th>\n",
       "      <th>papago</th>\n",
       "      <th>Count1</th>\n",
       "      <th>Count2</th>\n",
       "      <th>Count3</th>\n",
       "      <th>Ratio4</th>\n",
       "      <th>Ratio5</th>\n",
       "      <th>Ratio6</th>\n",
       "      <th>Ratio7</th>\n",
       "      <th>Count4</th>\n",
       "    </tr>\n",
       "  </thead>\n",
       "  <tbody>\n",
       "    <tr>\n",
       "      <th>0</th>\n",
       "      <td>MSI Gaming Radeon RX 6800 16GB GDDR6 PCI Expre...</td>\n",
       "      <td>msi gaming radeon rx gb gddr pci express cross...</td>\n",
       "      <td>en</td>\n",
       "      <td>other</td>\n",
       "      <td>other</td>\n",
       "      <td>other</td>\n",
       "      <td>other</td>\n",
       "      <td>other</td>\n",
       "      <td>other</td>\n",
       "      <td>other</td>\n",
       "      <td>other</td>\n",
       "    </tr>\n",
       "    <tr>\n",
       "      <th>1</th>\n",
       "      <td>Tune into the Official #CrossfireX Twitch Page...</td>\n",
       "      <td>tune into the official twitch page tomorrow fo...</td>\n",
       "      <td>en</td>\n",
       "      <td>en</td>\n",
       "      <td>en</td>\n",
       "      <td>en</td>\n",
       "      <td>en</td>\n",
       "      <td>en</td>\n",
       "      <td>en</td>\n",
       "      <td>other</td>\n",
       "      <td>en</td>\n",
       "    </tr>\n",
       "    <tr>\n",
       "      <th>2</th>\n",
       "      <td>MSI Gaming Radeon RX 6800 16GB GDDR6 PCI Expre...</td>\n",
       "      <td>msi gaming radeon rx gb gddr pci express cross...</td>\n",
       "      <td>en</td>\n",
       "      <td>other</td>\n",
       "      <td>other</td>\n",
       "      <td>other</td>\n",
       "      <td>other</td>\n",
       "      <td>other</td>\n",
       "      <td>other</td>\n",
       "      <td>other</td>\n",
       "      <td>other</td>\n",
       "    </tr>\n",
       "    <tr>\n",
       "      <th>3</th>\n",
       "      <td>Leo Loko27 played CrossfireX (Xbox) in the las...</td>\n",
       "      <td>leo loko played crossfirex xbox in the last hours</td>\n",
       "      <td>en</td>\n",
       "      <td>en</td>\n",
       "      <td>en</td>\n",
       "      <td>en</td>\n",
       "      <td>other</td>\n",
       "      <td>other</td>\n",
       "      <td>other</td>\n",
       "      <td>other</td>\n",
       "      <td>en</td>\n",
       "    </tr>\n",
       "    <tr>\n",
       "      <th>4</th>\n",
       "      <td>@pedriran ta louco meu patrão, arma vai vir re...</td>\n",
       "      <td>ta louco meu patro arma vai vir redondinho bon...</td>\n",
       "      <td>pt</td>\n",
       "      <td>en</td>\n",
       "      <td>en</td>\n",
       "      <td>en</td>\n",
       "      <td>other</td>\n",
       "      <td>other</td>\n",
       "      <td>other</td>\n",
       "      <td>other</td>\n",
       "      <td>en</td>\n",
       "    </tr>\n",
       "    <tr>\n",
       "      <th>...</th>\n",
       "      <td>...</td>\n",
       "      <td>...</td>\n",
       "      <td>...</td>\n",
       "      <td>...</td>\n",
       "      <td>...</td>\n",
       "      <td>...</td>\n",
       "      <td>...</td>\n",
       "      <td>...</td>\n",
       "      <td>...</td>\n",
       "      <td>...</td>\n",
       "      <td>...</td>\n",
       "    </tr>\n",
       "    <tr>\n",
       "      <th>11384</th>\n",
       "      <td>We Live baby! 🔥🔥 🔫 🔫 #crossfireX https://t.co/...</td>\n",
       "      <td>we live baby</td>\n",
       "      <td>en</td>\n",
       "      <td>other</td>\n",
       "      <td>other</td>\n",
       "      <td>other</td>\n",
       "      <td>other</td>\n",
       "      <td>other</td>\n",
       "      <td>other</td>\n",
       "      <td>other</td>\n",
       "      <td>other</td>\n",
       "    </tr>\n",
       "    <tr>\n",
       "      <th>11385</th>\n",
       "      <td>@weaver_colt @hylianwitcher @MrCh1valry Also, ...</td>\n",
       "      <td>also lots of year left me thinks mr auto draft...</td>\n",
       "      <td>en</td>\n",
       "      <td>en</td>\n",
       "      <td>en</td>\n",
       "      <td>en</td>\n",
       "      <td>en</td>\n",
       "      <td>other</td>\n",
       "      <td>other</td>\n",
       "      <td>other</td>\n",
       "      <td>en</td>\n",
       "    </tr>\n",
       "    <tr>\n",
       "      <th>11386</th>\n",
       "      <td>CrossfireX (Xbox One) Achievements https://t.c...</td>\n",
       "      <td>crossfirex xbox one achievements</td>\n",
       "      <td>en</td>\n",
       "      <td>other</td>\n",
       "      <td>other</td>\n",
       "      <td>other</td>\n",
       "      <td>other</td>\n",
       "      <td>other</td>\n",
       "      <td>other</td>\n",
       "      <td>other</td>\n",
       "      <td>other</td>\n",
       "    </tr>\n",
       "    <tr>\n",
       "      <th>11387</th>\n",
       "      <td>GO GO GO!\\n\\nCrossfireX: Operation Catalyst já...</td>\n",
       "      <td>go go go crossfirex operation catalyst j est d...</td>\n",
       "      <td>pt</td>\n",
       "      <td>en</td>\n",
       "      <td>other</td>\n",
       "      <td>other</td>\n",
       "      <td>other</td>\n",
       "      <td>other</td>\n",
       "      <td>other</td>\n",
       "      <td>other</td>\n",
       "      <td>other</td>\n",
       "    </tr>\n",
       "    <tr>\n",
       "      <th>11388</th>\n",
       "      <td>CrossfireX já está disponível!\\n\\n- Campanha (...</td>\n",
       "      <td>crossfirex j est disponvel campanha desenvolvi...</td>\n",
       "      <td>pt</td>\n",
       "      <td>en</td>\n",
       "      <td>en</td>\n",
       "      <td>en</td>\n",
       "      <td>other</td>\n",
       "      <td>other</td>\n",
       "      <td>other</td>\n",
       "      <td>other</td>\n",
       "      <td>en</td>\n",
       "    </tr>\n",
       "  </tbody>\n",
       "</table>\n",
       "<p>10073 rows × 11 columns</p>\n",
       "</div>"
      ],
      "text/plain": [
       "                                                    Text  \\\n",
       "0      MSI Gaming Radeon RX 6800 16GB GDDR6 PCI Expre...   \n",
       "1      Tune into the Official #CrossfireX Twitch Page...   \n",
       "2      MSI Gaming Radeon RX 6800 16GB GDDR6 PCI Expre...   \n",
       "3      Leo Loko27 played CrossfireX (Xbox) in the las...   \n",
       "4      @pedriran ta louco meu patrão, arma vai vir re...   \n",
       "...                                                  ...   \n",
       "11384  We Live baby! 🔥🔥 🔫 🔫 #crossfireX https://t.co/...   \n",
       "11385  @weaver_colt @hylianwitcher @MrCh1valry Also, ...   \n",
       "11386  CrossfireX (Xbox One) Achievements https://t.c...   \n",
       "11387  GO GO GO!\\n\\nCrossfireX: Operation Catalyst já...   \n",
       "11388  CrossfireX já está disponível!\\n\\n- Campanha (...   \n",
       "\n",
       "                                              Preprocess papago Count1 Count2  \\\n",
       "0      msi gaming radeon rx gb gddr pci express cross...     en  other  other   \n",
       "1      tune into the official twitch page tomorrow fo...     en     en     en   \n",
       "2      msi gaming radeon rx gb gddr pci express cross...     en  other  other   \n",
       "3      leo loko played crossfirex xbox in the last hours     en     en     en   \n",
       "4      ta louco meu patro arma vai vir redondinho bon...     pt     en     en   \n",
       "...                                                  ...    ...    ...    ...   \n",
       "11384                                       we live baby     en  other  other   \n",
       "11385  also lots of year left me thinks mr auto draft...     en     en     en   \n",
       "11386                   crossfirex xbox one achievements     en  other  other   \n",
       "11387  go go go crossfirex operation catalyst j est d...     pt     en  other   \n",
       "11388  crossfirex j est disponvel campanha desenvolvi...     pt     en     en   \n",
       "\n",
       "      Count3 Ratio4 Ratio5 Ratio6 Ratio7 Count4  \n",
       "0      other  other  other  other  other  other  \n",
       "1         en     en     en     en  other     en  \n",
       "2      other  other  other  other  other  other  \n",
       "3         en  other  other  other  other     en  \n",
       "4         en  other  other  other  other     en  \n",
       "...      ...    ...    ...    ...    ...    ...  \n",
       "11384  other  other  other  other  other  other  \n",
       "11385     en     en  other  other  other     en  \n",
       "11386  other  other  other  other  other  other  \n",
       "11387  other  other  other  other  other  other  \n",
       "11388     en  other  other  other  other     en  \n",
       "\n",
       "[10073 rows x 11 columns]"
      ]
     },
     "execution_count": 42,
     "metadata": {},
     "output_type": "execute_result"
    }
   ],
   "source": [
    "df"
   ]
  },
  {
   "cell_type": "code",
   "execution_count": 94,
   "id": "d3d3e704",
   "metadata": {},
   "outputs": [],
   "source": [
    "#영어로 감지한 것 중에 실제로 영어가 몇개 였나\n",
    "def get_accuracy(col) :\n",
    "    approx_eng = df.loc[df[col] == 'en']\n",
    "    papago = approx_eng.loc[approx_eng['papago'] == 'en']\n",
    "    return len(papago) / len(approx_eng)"
   ]
  },
  {
   "cell_type": "code",
   "execution_count": 95,
   "id": "d60c8278",
   "metadata": {},
   "outputs": [],
   "source": [
    "#진짜 영어 중에 얼마나 감지했나\n",
    "def get_size(col) :\n",
    "    approx_eng = df.loc[df[col] == 'en']\n",
    "    total_papago = df.loc[df['papago'] == 'en']\n",
    "    return len(approx_eng) / len(total_papago)"
   ]
  },
  {
   "cell_type": "code",
   "execution_count": 96,
   "id": "4e533b92",
   "metadata": {},
   "outputs": [
    {
     "name": "stdout",
     "output_type": "stream",
     "text": [
      "0.7272438947034571\n",
      "1.339611952981164\n"
     ]
    }
   ],
   "source": [
    "df['Count1'] = df['Preprocess'].apply(lambda x : approx_english_detection_count(x, 1))\n",
    "print(get_accuracy('Count1'))\n",
    "print(get_size('Count1'))"
   ]
  },
  {
   "cell_type": "code",
   "execution_count": 97,
   "id": "400598b2",
   "metadata": {},
   "outputs": [
    {
     "name": "stdout",
     "output_type": "stream",
     "text": [
      "0.7419172507347954\n",
      "1.252797054241609\n"
     ]
    }
   ],
   "source": [
    "df['Count2'] = df['Preprocess'].apply(lambda x : approx_english_detection_count(x, 2))\n",
    "print(get_accuracy('Count2'))\n",
    "print(get_size('Count2'))"
   ]
  },
  {
   "cell_type": "code",
   "execution_count": 98,
   "id": "387daddf",
   "metadata": {},
   "outputs": [
    {
     "name": "stdout",
     "output_type": "stream",
     "text": [
      "0.7512715543977174\n",
      "1.141622999575131\n"
     ]
    }
   ],
   "source": [
    "df['Count3'] = df['Preprocess'].apply(lambda x : approx_english_detection_count(x, 3))\n",
    "print(get_accuracy('Count3'))\n",
    "print(get_size('Count3'))"
   ]
  },
  {
   "cell_type": "code",
   "execution_count": 99,
   "id": "1247fb1d",
   "metadata": {},
   "outputs": [
    {
     "name": "stdout",
     "output_type": "stream",
     "text": [
      "0.7519612038225646\n",
      "0.9929188500212435\n"
     ]
    }
   ],
   "source": [
    "df['Count4'] = df['Preprocess'].apply(lambda x : approx_english_detection_count(x, 4))\n",
    "print(get_accuracy('Count4'))\n",
    "print(get_size('Count4'))"
   ]
  },
  {
   "cell_type": "code",
   "execution_count": 105,
   "id": "4dc28228",
   "metadata": {
    "scrolled": true
   },
   "outputs": [
    {
     "name": "stdout",
     "output_type": "stream",
     "text": [
      "0.7555555555555555\n",
      "0.8858518623424444\n"
     ]
    }
   ],
   "source": [
    "df['Count5'] = df['Preprocess'].apply(lambda x : approx_english_detection_count(x, 5))\n",
    "print(get_accuracy('Count5'))\n",
    "print(get_size('Count5'))"
   ]
  },
  {
   "cell_type": "code",
   "execution_count": 106,
   "id": "f68f4ffd",
   "metadata": {},
   "outputs": [
    {
     "name": "stdout",
     "output_type": "stream",
     "text": [
      "0.7593811338182658\n",
      "1.2265967993202096\n"
     ]
    }
   ],
   "source": [
    "df['Ratio3'] = df['Preprocess'].apply(lambda x : approx_english_detection_ratio(x, 0.3))\n",
    "print(get_accuracy('Ratio3'))\n",
    "print(get_size('Ratio3'))"
   ]
  },
  {
   "cell_type": "code",
   "execution_count": 100,
   "id": "98872c7a",
   "metadata": {},
   "outputs": [
    {
     "name": "stdout",
     "output_type": "stream",
     "text": [
      "0.816114359974009\n",
      "1.089788981730633\n"
     ]
    }
   ],
   "source": [
    "df['Ratio4'] = df['Preprocess'].apply(lambda x : approx_english_detection_ratio(x, 0.4))\n",
    "print(get_accuracy('Ratio4'))\n",
    "print(get_size('Ratio4'))"
   ]
  },
  {
   "cell_type": "code",
   "execution_count": 101,
   "id": "6eae80aa",
   "metadata": {},
   "outputs": [
    {
     "name": "stdout",
     "output_type": "stream",
     "text": [
      "0.8882550826385842\n",
      "0.9682764480951707\n"
     ]
    }
   ],
   "source": [
    "df['Ratio5'] = df['Preprocess'].apply(lambda x : approx_english_detection_ratio(x, 0.5))\n",
    "print(get_accuracy('Ratio5'))\n",
    "print(get_size('Ratio5'))"
   ]
  },
  {
   "cell_type": "code",
   "execution_count": 102,
   "id": "5fed549e",
   "metadata": {
    "scrolled": true
   },
   "outputs": [
    {
     "name": "stdout",
     "output_type": "stream",
     "text": [
      "0.9513009845288326\n",
      "0.8055516215833451\n"
     ]
    }
   ],
   "source": [
    "df['Ratio6'] = df['Preprocess'].apply(lambda x : approx_english_detection_ratio(x, 0.6))\n",
    "print(get_accuracy('Ratio6'))\n",
    "print(get_size('Ratio6'))"
   ]
  },
  {
   "cell_type": "code",
   "execution_count": 103,
   "id": "795731e3",
   "metadata": {},
   "outputs": [
    {
     "name": "stdout",
     "output_type": "stream",
     "text": [
      "1.0\n",
      "0.07477694377566917\n"
     ]
    }
   ],
   "source": [
    "df['Ratio7'] = df['Text'].apply(lambda x : approx_english_detection_ratio(x, 0.7))\n",
    "print(get_accuracy('Ratio7'))\n",
    "print(get_size('Ratio7'))"
   ]
  }
 ],
 "metadata": {
  "kernelspec": {
   "display_name": "Python 3 (ipykernel)",
   "language": "python",
   "name": "python3"
  },
  "language_info": {
   "codemirror_mode": {
    "name": "ipython",
    "version": 3
   },
   "file_extension": ".py",
   "mimetype": "text/x-python",
   "name": "python",
   "nbconvert_exporter": "python",
   "pygments_lexer": "ipython3",
   "version": "3.9.7"
  }
 },
 "nbformat": 4,
 "nbformat_minor": 5
}
