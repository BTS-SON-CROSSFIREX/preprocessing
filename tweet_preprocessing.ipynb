{
 "cells": [
  {
   "cell_type": "code",
   "execution_count": null,
   "id": "7e356d0c",
   "metadata": {},
   "outputs": [],
   "source": [
    "import pandas as pd\n",
    "import re\n",
    "from nltk.tokenize import TreebankWordTokenizer\n",
    "from nltk.corpus import stopwords\n",
    "from google.cloud import translate_v2 as translate\n",
    "import os\n",
    "os.environ['GOOGLE_APPLICATION_CREDENTIALS'] = 'key'"
   ]
  },
  {
   "cell_type": "code",
   "execution_count": null,
   "id": "748649cd",
   "metadata": {},
   "outputs": [],
   "source": [
    "# 원본 파일 읽어옴\n",
    "df = pd.read_csv('./overwatch_2022-01-01_2022-05-05tweetdata.csv', index_col=0)"
   ]
  },
  {
   "cell_type": "code",
   "execution_count": null,
   "id": "da9dca45",
   "metadata": {},
   "outputs": [],
   "source": [
    "emoj = re.compile(\"[\"\n",
    "    u\"\\U0001F600-\\U0001F64F\"  # emoticons\n",
    "    u\"\\U0001F300-\\U0001F5FF\"  # symbols & pictographs\n",
    "    u\"\\U0001F680-\\U0001F6FF\"  # transport & map symbols\n",
    "    u\"\\U0001F1E0-\\U0001F1FF\"  # flags (iOS)\n",
    "    u\"\\U00002500-\\U00002BEF\"  # chinese char\n",
    "    u\"\\U00002702-\\U000027B0\"\n",
    "    u\"\\U00002702-\\U000027B0\"\n",
    "    u\"\\U000024C2-\\U0001F251\"\n",
    "    u\"\\U0001f926-\\U0001f937\"\n",
    "    u\"\\U00010000-\\U0010ffff\"\n",
    "    u\"\\u2640-\\u2642\" \n",
    "    u\"\\u2600-\\u2B55\"\n",
    "    u\"\\u200d\"\n",
    "    u\"\\u23cf\"\n",
    "    u\"\\u23e9\"\n",
    "    u\"\\u231a\"\n",
    "    u\"\\ufe0f\"  # dingbats\n",
    "    u\"\\u3030\"\n",
    "                     \"]+\", re.UNICODE)\n",
    "\n",
    "def preprocess(str):\n",
    "    # 불필요한 공백 삭제\n",
    "    str = str.strip(\" \")\n",
    "    \n",
    "    # @이나 RT로 시작하는 부분은 필요없다고 가정하고 모두 삭제\n",
    "    while(1):\n",
    "        if(str[0:1] == '@' or str[0:2] == 'RT') :\n",
    "            str = ' '.join(str.split()[1:])\n",
    "        else : break\n",
    "    \n",
    "    # 이모지 지움\n",
    "    str = re.sub(emoj, '', str)\n",
    "    \n",
    "    # 특수문자, https 지움\n",
    "    str = re.sub('#|@|\\*|,|http.*|\\^', '', str)\n",
    "    \n",
    "    # 공백 문자 실제 공백으로 대체\n",
    "    str = re.sub('\\s|-|:|;|&|/|\\(|\\)|\\\"|“|”|\\[|\\]', ' ', str)\n",
    "    \n",
    "    # 물음표, 느낌표 온점으로 대체\n",
    "    str = re.sub('!|\\?', '.', str)\n",
    "    str = re.sub('’|‘', '\\'', str)\n",
    "    \n",
    "    # 대문자 소문자로 바꿈\n",
    "    str = str.lower()\n",
    "    \n",
    "    # 다시 불필요한 공백 제거\n",
    "    str = str.strip(\" \")\n",
    "    \n",
    "    return str"
   ]
  },
  {
   "cell_type": "code",
   "execution_count": null,
   "id": "b318ab33",
   "metadata": {
    "scrolled": false
   },
   "outputs": [],
   "source": [
    "preprocessed = []\n",
    "\n",
    "client = translate.Client()\n",
    "\n",
    "for i, s in enumerate(df['Text']):\n",
    "    temp = preprocess(s)\n",
    "   \n",
    "    # 길이가 2보다 작은 경우엔 무의미하다고 생각\n",
    "    if(len(temp) < 2) : continue\n",
    "    # 영어인 경우에만 저장\n",
    "    if client.detect_language(temp)['language'] == 'en':\n",
    "        preprocessed.append(temp)"
   ]
  },
  {
   "cell_type": "code",
   "execution_count": null,
   "id": "2f93401d",
   "metadata": {},
   "outputs": [],
   "source": [
    "tokenizer = TreebankWordTokenizer()\n",
    "stop_words = set(stopwords.words('english')) "
   ]
  },
  {
   "cell_type": "code",
   "execution_count": null,
   "id": "888d0b95",
   "metadata": {},
   "outputs": [],
   "source": [
    "for i, s in enumerate(preprocessed):\n",
    "    tokens = tokenizer.tokenize(s)\n",
    "    temp = []\n",
    "    \n",
    "    for j in tokens:\n",
    "        if j not in stop_words :\n",
    "            temp.append(j)\n",
    "\n",
    "    preprocessed[i] = ' '.join(temp)"
   ]
  },
  {
   "cell_type": "code",
   "execution_count": null,
   "id": "a7b2c8d1",
   "metadata": {},
   "outputs": [],
   "source": [
    "col = ['Preprocessed']\n",
    "result = pd.DataFrame(preprocessed, columns=col)\n",
    "result"
   ]
  },
  {
   "cell_type": "code",
   "execution_count": null,
   "id": "a6ee92fc",
   "metadata": {},
   "outputs": [],
   "source": [
    "result.to_csv('result.csv')"
   ]
  }
 ],
 "metadata": {
  "kernelspec": {
   "display_name": "Python 3 (ipykernel)",
   "language": "python",
   "name": "python3"
  },
  "language_info": {
   "codemirror_mode": {
    "name": "ipython",
    "version": 3
   },
   "file_extension": ".py",
   "mimetype": "text/x-python",
   "name": "python",
   "nbconvert_exporter": "python",
   "pygments_lexer": "ipython3",
   "version": "3.9.7"
  }
 },
 "nbformat": 4,
 "nbformat_minor": 5
}
